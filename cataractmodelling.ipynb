{
  "nbformat": 4,
  "nbformat_minor": 0,
  "metadata": {
    "colab": {
      "provenance": [],
      "authorship_tag": "ABX9TyNcOZo+h4Yh5J//iK7gWeR6",
      "include_colab_link": true
    },
    "kernelspec": {
      "name": "python3",
      "display_name": "Python 3"
    },
    "language_info": {
      "name": "python"
    }
  },
  "cells": [
    {
      "cell_type": "markdown",
      "metadata": {
        "id": "view-in-github",
        "colab_type": "text"
      },
      "source": [
        "<a href=\"https://colab.research.google.com/github/Samsriddhi/Cataract-Modelling/blob/main/cataractmodelling.ipynb\" target=\"_parent\"><img src=\"https://colab.research.google.com/assets/colab-badge.svg\" alt=\"Open In Colab\"/></a>"
      ]
    },
    {
      "cell_type": "code",
      "execution_count": null,
      "metadata": {
        "id": "u-LJNNsE6K7x"
      },
      "outputs": [],
      "source": [
        "import pandas as pd"
      ]
    },
    {
      "cell_type": "code",
      "source": [
        "data = pd.read_csv(\"Cataract - Sheet1-2.csv\")\n",
        "data\n",
        "data.head()\n"
      ],
      "metadata": {
        "colab": {
          "base_uri": "https://localhost:8080/",
          "height": 160
        },
        "id": "ssNm30S3UikN",
        "outputId": "fab3c5e7-2d82-41f4-d37a-9abc0809bcf5"
      },
      "execution_count": null,
      "outputs": [
        {
          "output_type": "execute_result",
          "data": {
            "text/plain": [
              "   Acuity  Female bi  Female uni  Male bi  Male uni category\n",
              "0   0.050       1.09        5.28     0.59      4.12     3/60\n",
              "1   0.100       1.88        6.79     1.17      5.45     6/60\n",
              "2   0.334       5.88       11.39     4.31     10.19     6/18"
            ],
            "text/html": [
              "\n",
              "  <div id=\"df-127ec45c-901d-4c01-941c-f5747fdcc4f2\">\n",
              "    <div class=\"colab-df-container\">\n",
              "      <div>\n",
              "<style scoped>\n",
              "    .dataframe tbody tr th:only-of-type {\n",
              "        vertical-align: middle;\n",
              "    }\n",
              "\n",
              "    .dataframe tbody tr th {\n",
              "        vertical-align: top;\n",
              "    }\n",
              "\n",
              "    .dataframe thead th {\n",
              "        text-align: right;\n",
              "    }\n",
              "</style>\n",
              "<table border=\"1\" class=\"dataframe\">\n",
              "  <thead>\n",
              "    <tr style=\"text-align: right;\">\n",
              "      <th></th>\n",
              "      <th>Acuity</th>\n",
              "      <th>Female bi</th>\n",
              "      <th>Female uni</th>\n",
              "      <th>Male bi</th>\n",
              "      <th>Male uni</th>\n",
              "      <th>category</th>\n",
              "    </tr>\n",
              "  </thead>\n",
              "  <tbody>\n",
              "    <tr>\n",
              "      <th>0</th>\n",
              "      <td>0.050</td>\n",
              "      <td>1.09</td>\n",
              "      <td>5.28</td>\n",
              "      <td>0.59</td>\n",
              "      <td>4.12</td>\n",
              "      <td>3/60</td>\n",
              "    </tr>\n",
              "    <tr>\n",
              "      <th>1</th>\n",
              "      <td>0.100</td>\n",
              "      <td>1.88</td>\n",
              "      <td>6.79</td>\n",
              "      <td>1.17</td>\n",
              "      <td>5.45</td>\n",
              "      <td>6/60</td>\n",
              "    </tr>\n",
              "    <tr>\n",
              "      <th>2</th>\n",
              "      <td>0.334</td>\n",
              "      <td>5.88</td>\n",
              "      <td>11.39</td>\n",
              "      <td>4.31</td>\n",
              "      <td>10.19</td>\n",
              "      <td>6/18</td>\n",
              "    </tr>\n",
              "  </tbody>\n",
              "</table>\n",
              "</div>\n",
              "      <button class=\"colab-df-convert\" onclick=\"convertToInteractive('df-127ec45c-901d-4c01-941c-f5747fdcc4f2')\"\n",
              "              title=\"Convert this dataframe to an interactive table.\"\n",
              "              style=\"display:none;\">\n",
              "        \n",
              "  <svg xmlns=\"http://www.w3.org/2000/svg\" height=\"24px\"viewBox=\"0 0 24 24\"\n",
              "       width=\"24px\">\n",
              "    <path d=\"M0 0h24v24H0V0z\" fill=\"none\"/>\n",
              "    <path d=\"M18.56 5.44l.94 2.06.94-2.06 2.06-.94-2.06-.94-.94-2.06-.94 2.06-2.06.94zm-11 1L8.5 8.5l.94-2.06 2.06-.94-2.06-.94L8.5 2.5l-.94 2.06-2.06.94zm10 10l.94 2.06.94-2.06 2.06-.94-2.06-.94-.94-2.06-.94 2.06-2.06.94z\"/><path d=\"M17.41 7.96l-1.37-1.37c-.4-.4-.92-.59-1.43-.59-.52 0-1.04.2-1.43.59L10.3 9.45l-7.72 7.72c-.78.78-.78 2.05 0 2.83L4 21.41c.39.39.9.59 1.41.59.51 0 1.02-.2 1.41-.59l7.78-7.78 2.81-2.81c.8-.78.8-2.07 0-2.86zM5.41 20L4 18.59l7.72-7.72 1.47 1.35L5.41 20z\"/>\n",
              "  </svg>\n",
              "      </button>\n",
              "      \n",
              "  <style>\n",
              "    .colab-df-container {\n",
              "      display:flex;\n",
              "      flex-wrap:wrap;\n",
              "      gap: 12px;\n",
              "    }\n",
              "\n",
              "    .colab-df-convert {\n",
              "      background-color: #E8F0FE;\n",
              "      border: none;\n",
              "      border-radius: 50%;\n",
              "      cursor: pointer;\n",
              "      display: none;\n",
              "      fill: #1967D2;\n",
              "      height: 32px;\n",
              "      padding: 0 0 0 0;\n",
              "      width: 32px;\n",
              "    }\n",
              "\n",
              "    .colab-df-convert:hover {\n",
              "      background-color: #E2EBFA;\n",
              "      box-shadow: 0px 1px 2px rgba(60, 64, 67, 0.3), 0px 1px 3px 1px rgba(60, 64, 67, 0.15);\n",
              "      fill: #174EA6;\n",
              "    }\n",
              "\n",
              "    [theme=dark] .colab-df-convert {\n",
              "      background-color: #3B4455;\n",
              "      fill: #D2E3FC;\n",
              "    }\n",
              "\n",
              "    [theme=dark] .colab-df-convert:hover {\n",
              "      background-color: #434B5C;\n",
              "      box-shadow: 0px 1px 3px 1px rgba(0, 0, 0, 0.15);\n",
              "      filter: drop-shadow(0px 1px 2px rgba(0, 0, 0, 0.3));\n",
              "      fill: #FFFFFF;\n",
              "    }\n",
              "  </style>\n",
              "\n",
              "      <script>\n",
              "        const buttonEl =\n",
              "          document.querySelector('#df-127ec45c-901d-4c01-941c-f5747fdcc4f2 button.colab-df-convert');\n",
              "        buttonEl.style.display =\n",
              "          google.colab.kernel.accessAllowed ? 'block' : 'none';\n",
              "\n",
              "        async function convertToInteractive(key) {\n",
              "          const element = document.querySelector('#df-127ec45c-901d-4c01-941c-f5747fdcc4f2');\n",
              "          const dataTable =\n",
              "            await google.colab.kernel.invokeFunction('convertToInteractive',\n",
              "                                                     [key], {});\n",
              "          if (!dataTable) return;\n",
              "\n",
              "          const docLinkHtml = 'Like what you see? Visit the ' +\n",
              "            '<a target=\"_blank\" href=https://colab.research.google.com/notebooks/data_table.ipynb>data table notebook</a>'\n",
              "            + ' to learn more about interactive tables.';\n",
              "          element.innerHTML = '';\n",
              "          dataTable['output_type'] = 'display_data';\n",
              "          await google.colab.output.renderOutput(dataTable, element);\n",
              "          const docLink = document.createElement('div');\n",
              "          docLink.innerHTML = docLinkHtml;\n",
              "          element.appendChild(docLink);\n",
              "        }\n",
              "      </script>\n",
              "    </div>\n",
              "  </div>\n",
              "  "
            ]
          },
          "metadata": {},
          "execution_count": 46
        }
      ]
    },
    {
      "cell_type": "code",
      "source": [
        "data.describe()"
      ],
      "metadata": {
        "colab": {
          "base_uri": "https://localhost:8080/",
          "height": 313
        },
        "id": "GtlnXTU5bBox",
        "outputId": "180a9045-aaa3-429f-c772-5b0b631128dd"
      },
      "execution_count": null,
      "outputs": [
        {
          "output_type": "execute_result",
          "data": {
            "text/plain": [
              "         Acuity  Female bi  Female uni   Male bi   Male uni\n",
              "count  3.000000   3.000000    3.000000  3.000000   3.000000\n",
              "mean   0.161333   2.950000    7.820000  2.023333   6.586667\n",
              "std    0.151609   2.568015    3.182562  2.001433   3.190648\n",
              "min    0.050000   1.090000    5.280000  0.590000   4.120000\n",
              "25%    0.075000   1.485000    6.035000  0.880000   4.785000\n",
              "50%    0.100000   1.880000    6.790000  1.170000   5.450000\n",
              "75%    0.217000   3.880000    9.090000  2.740000   7.820000\n",
              "max    0.334000   5.880000   11.390000  4.310000  10.190000"
            ],
            "text/html": [
              "\n",
              "  <div id=\"df-4e59fef9-e071-419e-9b38-1438feb2f8af\">\n",
              "    <div class=\"colab-df-container\">\n",
              "      <div>\n",
              "<style scoped>\n",
              "    .dataframe tbody tr th:only-of-type {\n",
              "        vertical-align: middle;\n",
              "    }\n",
              "\n",
              "    .dataframe tbody tr th {\n",
              "        vertical-align: top;\n",
              "    }\n",
              "\n",
              "    .dataframe thead th {\n",
              "        text-align: right;\n",
              "    }\n",
              "</style>\n",
              "<table border=\"1\" class=\"dataframe\">\n",
              "  <thead>\n",
              "    <tr style=\"text-align: right;\">\n",
              "      <th></th>\n",
              "      <th>Acuity</th>\n",
              "      <th>Female bi</th>\n",
              "      <th>Female uni</th>\n",
              "      <th>Male bi</th>\n",
              "      <th>Male uni</th>\n",
              "    </tr>\n",
              "  </thead>\n",
              "  <tbody>\n",
              "    <tr>\n",
              "      <th>count</th>\n",
              "      <td>3.000000</td>\n",
              "      <td>3.000000</td>\n",
              "      <td>3.000000</td>\n",
              "      <td>3.000000</td>\n",
              "      <td>3.000000</td>\n",
              "    </tr>\n",
              "    <tr>\n",
              "      <th>mean</th>\n",
              "      <td>0.161333</td>\n",
              "      <td>2.950000</td>\n",
              "      <td>7.820000</td>\n",
              "      <td>2.023333</td>\n",
              "      <td>6.586667</td>\n",
              "    </tr>\n",
              "    <tr>\n",
              "      <th>std</th>\n",
              "      <td>0.151609</td>\n",
              "      <td>2.568015</td>\n",
              "      <td>3.182562</td>\n",
              "      <td>2.001433</td>\n",
              "      <td>3.190648</td>\n",
              "    </tr>\n",
              "    <tr>\n",
              "      <th>min</th>\n",
              "      <td>0.050000</td>\n",
              "      <td>1.090000</td>\n",
              "      <td>5.280000</td>\n",
              "      <td>0.590000</td>\n",
              "      <td>4.120000</td>\n",
              "    </tr>\n",
              "    <tr>\n",
              "      <th>25%</th>\n",
              "      <td>0.075000</td>\n",
              "      <td>1.485000</td>\n",
              "      <td>6.035000</td>\n",
              "      <td>0.880000</td>\n",
              "      <td>4.785000</td>\n",
              "    </tr>\n",
              "    <tr>\n",
              "      <th>50%</th>\n",
              "      <td>0.100000</td>\n",
              "      <td>1.880000</td>\n",
              "      <td>6.790000</td>\n",
              "      <td>1.170000</td>\n",
              "      <td>5.450000</td>\n",
              "    </tr>\n",
              "    <tr>\n",
              "      <th>75%</th>\n",
              "      <td>0.217000</td>\n",
              "      <td>3.880000</td>\n",
              "      <td>9.090000</td>\n",
              "      <td>2.740000</td>\n",
              "      <td>7.820000</td>\n",
              "    </tr>\n",
              "    <tr>\n",
              "      <th>max</th>\n",
              "      <td>0.334000</td>\n",
              "      <td>5.880000</td>\n",
              "      <td>11.390000</td>\n",
              "      <td>4.310000</td>\n",
              "      <td>10.190000</td>\n",
              "    </tr>\n",
              "  </tbody>\n",
              "</table>\n",
              "</div>\n",
              "      <button class=\"colab-df-convert\" onclick=\"convertToInteractive('df-4e59fef9-e071-419e-9b38-1438feb2f8af')\"\n",
              "              title=\"Convert this dataframe to an interactive table.\"\n",
              "              style=\"display:none;\">\n",
              "        \n",
              "  <svg xmlns=\"http://www.w3.org/2000/svg\" height=\"24px\"viewBox=\"0 0 24 24\"\n",
              "       width=\"24px\">\n",
              "    <path d=\"M0 0h24v24H0V0z\" fill=\"none\"/>\n",
              "    <path d=\"M18.56 5.44l.94 2.06.94-2.06 2.06-.94-2.06-.94-.94-2.06-.94 2.06-2.06.94zm-11 1L8.5 8.5l.94-2.06 2.06-.94-2.06-.94L8.5 2.5l-.94 2.06-2.06.94zm10 10l.94 2.06.94-2.06 2.06-.94-2.06-.94-.94-2.06-.94 2.06-2.06.94z\"/><path d=\"M17.41 7.96l-1.37-1.37c-.4-.4-.92-.59-1.43-.59-.52 0-1.04.2-1.43.59L10.3 9.45l-7.72 7.72c-.78.78-.78 2.05 0 2.83L4 21.41c.39.39.9.59 1.41.59.51 0 1.02-.2 1.41-.59l7.78-7.78 2.81-2.81c.8-.78.8-2.07 0-2.86zM5.41 20L4 18.59l7.72-7.72 1.47 1.35L5.41 20z\"/>\n",
              "  </svg>\n",
              "      </button>\n",
              "      \n",
              "  <style>\n",
              "    .colab-df-container {\n",
              "      display:flex;\n",
              "      flex-wrap:wrap;\n",
              "      gap: 12px;\n",
              "    }\n",
              "\n",
              "    .colab-df-convert {\n",
              "      background-color: #E8F0FE;\n",
              "      border: none;\n",
              "      border-radius: 50%;\n",
              "      cursor: pointer;\n",
              "      display: none;\n",
              "      fill: #1967D2;\n",
              "      height: 32px;\n",
              "      padding: 0 0 0 0;\n",
              "      width: 32px;\n",
              "    }\n",
              "\n",
              "    .colab-df-convert:hover {\n",
              "      background-color: #E2EBFA;\n",
              "      box-shadow: 0px 1px 2px rgba(60, 64, 67, 0.3), 0px 1px 3px 1px rgba(60, 64, 67, 0.15);\n",
              "      fill: #174EA6;\n",
              "    }\n",
              "\n",
              "    [theme=dark] .colab-df-convert {\n",
              "      background-color: #3B4455;\n",
              "      fill: #D2E3FC;\n",
              "    }\n",
              "\n",
              "    [theme=dark] .colab-df-convert:hover {\n",
              "      background-color: #434B5C;\n",
              "      box-shadow: 0px 1px 3px 1px rgba(0, 0, 0, 0.15);\n",
              "      filter: drop-shadow(0px 1px 2px rgba(0, 0, 0, 0.3));\n",
              "      fill: #FFFFFF;\n",
              "    }\n",
              "  </style>\n",
              "\n",
              "      <script>\n",
              "        const buttonEl =\n",
              "          document.querySelector('#df-4e59fef9-e071-419e-9b38-1438feb2f8af button.colab-df-convert');\n",
              "        buttonEl.style.display =\n",
              "          google.colab.kernel.accessAllowed ? 'block' : 'none';\n",
              "\n",
              "        async function convertToInteractive(key) {\n",
              "          const element = document.querySelector('#df-4e59fef9-e071-419e-9b38-1438feb2f8af');\n",
              "          const dataTable =\n",
              "            await google.colab.kernel.invokeFunction('convertToInteractive',\n",
              "                                                     [key], {});\n",
              "          if (!dataTable) return;\n",
              "\n",
              "          const docLinkHtml = 'Like what you see? Visit the ' +\n",
              "            '<a target=\"_blank\" href=https://colab.research.google.com/notebooks/data_table.ipynb>data table notebook</a>'\n",
              "            + ' to learn more about interactive tables.';\n",
              "          element.innerHTML = '';\n",
              "          dataTable['output_type'] = 'display_data';\n",
              "          await google.colab.output.renderOutput(dataTable, element);\n",
              "          const docLink = document.createElement('div');\n",
              "          docLink.innerHTML = docLinkHtml;\n",
              "          element.appendChild(docLink);\n",
              "        }\n",
              "      </script>\n",
              "    </div>\n",
              "  </div>\n",
              "  "
            ]
          },
          "metadata": {},
          "execution_count": 47
        }
      ]
    },
    {
      "cell_type": "code",
      "source": [
        "data.info()"
      ],
      "metadata": {
        "colab": {
          "base_uri": "https://localhost:8080/"
        },
        "id": "CXN0qyNEbHiq",
        "outputId": "5133521e-576d-4950-af21-bbc8c0beb102"
      },
      "execution_count": null,
      "outputs": [
        {
          "output_type": "stream",
          "name": "stdout",
          "text": [
            "<class 'pandas.core.frame.DataFrame'>\n",
            "RangeIndex: 3 entries, 0 to 2\n",
            "Data columns (total 6 columns):\n",
            " #   Column      Non-Null Count  Dtype  \n",
            "---  ------      --------------  -----  \n",
            " 0   Acuity      3 non-null      float64\n",
            " 1   Female bi   3 non-null      float64\n",
            " 2   Female uni  3 non-null      float64\n",
            " 3   Male bi     3 non-null      float64\n",
            " 4   Male uni    3 non-null      float64\n",
            " 5   category    3 non-null      object \n",
            "dtypes: float64(5), object(1)\n",
            "memory usage: 272.0+ bytes\n"
          ]
        }
      ]
    },
    {
      "cell_type": "code",
      "source": [
        "data.columns"
      ],
      "metadata": {
        "colab": {
          "base_uri": "https://localhost:8080/"
        },
        "id": "oPJaUwV9fSKY",
        "outputId": "7582dce6-fb07-4398-feed-1817b78861af"
      },
      "execution_count": null,
      "outputs": [
        {
          "output_type": "execute_result",
          "data": {
            "text/plain": [
              "Index(['Acuity', 'Female bi', 'Female uni', 'Male bi', 'Male uni', 'category'], dtype='object')"
            ]
          },
          "metadata": {},
          "execution_count": 49
        }
      ]
    },
    {
      "cell_type": "code",
      "source": [
        "data.shape"
      ],
      "metadata": {
        "colab": {
          "base_uri": "https://localhost:8080/"
        },
        "id": "j5q8XyHHfeyO",
        "outputId": "5ba4f7ff-49d2-424d-a08e-eeb759951943"
      },
      "execution_count": null,
      "outputs": [
        {
          "output_type": "execute_result",
          "data": {
            "text/plain": [
              "(3, 6)"
            ]
          },
          "metadata": {},
          "execution_count": 50
        }
      ]
    },
    {
      "cell_type": "code",
      "source": [
        "import matplotlib.pyplot as plt\n",
        "x=data['Acuity']\n",
        "y=data['Female bi']\n",
        "plt.scatter(x, y)\n",
        "plt.xlabel('acuity')\n",
        "plt.ylabel('Female bi')"
      ],
      "metadata": {
        "colab": {
          "base_uri": "https://localhost:8080/",
          "height": 316
        },
        "id": "ldLnF9a2fvK1",
        "outputId": "75d4b654-b297-482f-b8c2-f0dcbc06836a"
      },
      "execution_count": null,
      "outputs": [
        {
          "output_type": "execute_result",
          "data": {
            "text/plain": [
              "Text(0, 0.5, 'Female bi')"
            ]
          },
          "metadata": {},
          "execution_count": 54
        },
        {
          "output_type": "display_data",
          "data": {
            "text/plain": [
              "<Figure size 432x288 with 1 Axes>"
            ],
            "image/png": "[encoded data removed]"
          },
          "metadata": {
            "needs_background": "light"
          }
        }
      ]
    },
    {
      "cell_type": "code",
      "source": [
        "import numpy as np\n",
        "\n",
        "from sklearn.linear_model import LinearRegression\n",
        "lm = LinearRegression() # builds up model package\n",
        "X=np.array(x).reshape(-1, 1)\n",
        "Y=np.array(y).reshape(-1, 1)\n",
        "lm.fit(X, Y)\n",
        "plt.scatter(X, Y)\n",
        "plt.plot(X, lm.predict(X), 'r')\n",
        "plt.xlabel('acuity')\n",
        "plt.ylabel('female bi')\n",
        "plt.show()\n",
        "\n",
        "from sklearn.metrics import mean_squared_error\n",
        "print('MSE (in millions) fit after training: ', mean_squared_error(Y, lm.predict(X))/1000000)\n",
        "\n",
        "from sklearn.model_selection import train_test_split\n",
        "\n",
        "\n",
        "X_train, X_test, Y_train, Y_test = train_test_split(X, Y, test_size=0.2, random_state=0)\n",
        "lmr = LinearRegression()\n",
        "lmr.fit(X_train, Y_train)\n",
        "\n",
        "X_test_plot = X_test\n",
        "Y_pred = lmr.predict(X_test)\n",
        "\n",
        "plt.scatter(X, Y)\n",
        "plt.plot(X_test, lmr.predict(X_test), 'r')\n",
        "plt.xlabel('acuity')\n",
        "plt.ylabel('Female Bi')\n",
        "plt.show()\n",
        "\n",
        "print('MSE (in millions) fit after training: ', mean_squared_error(Y_test, lmr.predict(X_test))/1000000)"
      ],
      "metadata": {
        "colab": {
          "base_uri": "https://localhost:8080/",
          "height": 594
        },
        "id": "QZM71m1zgrq1",
        "outputId": "aa5f1a79-43b2-44b5-ba4e-10bd3609a415"
      },
      "execution_count": null,
      "outputs": [
        {
          "output_type": "display_data",
          "data": {
            "text/plain": [
              "<Figure size 432x288 with 1 Axes>"
            ],
            "image/png": "[encoded data removed]"
          },
          "metadata": {
            "needs_background": "light"
          }
        },
        {
          "output_type": "stream",
          "name": "stdout",
          "text": [
            "MSE (in millions) fit after training:  5.540238219540976e-10\n"
          ]
        },
        {
          "output_type": "display_data",
          "data": {
            "text/plain": [
              "<Figure size 432x288 with 1 Axes>"
            ],
            "image/png": "[encoded data removed]"
          },
          "metadata": {
            "needs_background": "light"
          }
        },
        {
          "output_type": "stream",
          "name": "stdout",
          "text": [
            "MSE (in millions) fit after training:  9.168784000000025e-08\n"
          ]
        }
      ]
    },
    {
      "cell_type": "code",
      "source": [
        "import matplotlib.pyplot as plt\n",
        "x=data['Acuity']\n",
        "y=data['Female uni']\n",
        "plt.scatter(x, y)\n",
        "plt.xlabel('acuity')\n",
        "plt.ylabel('Female uni')"
      ],
      "metadata": {
        "colab": {
          "base_uri": "https://localhost:8080/",
          "height": 316
        },
        "id": "BnNNXRONobWP",
        "outputId": "e86e6926-2cfa-4704-e573-6a570f90d423"
      },
      "execution_count": null,
      "outputs": [
        {
          "output_type": "execute_result",
          "data": {
            "text/plain": [
              "Text(0, 0.5, 'Female uni')"
            ]
          },
          "metadata": {},
          "execution_count": 74
        },
        {
          "output_type": "display_data",
          "data": {
            "text/plain": [
              "<Figure size 432x288 with 1 Axes>"
            ],
            "image/png": "[encoded data removed]"
          },
          "metadata": {
            "needs_background": "light"
          }
        }
      ]
    },
    {
      "cell_type": "code",
      "source": [
        "import numpy as np\n",
        "\n",
        "from sklearn.linear_model import LinearRegression\n",
        "lm = LinearRegression() # builds up model package\n",
        "X=np.array(x).reshape(-1, 1)\n",
        "Y=np.array(y).reshape(-1, 1)\n",
        "lm.fit(X, Y)\n",
        "plt.scatter(X, Y)\n",
        "plt.plot(X, lm.predict(X), 'r')\n",
        "plt.xlabel('acuity')\n",
        "plt.ylabel('female uni')\n",
        "plt.show()\n",
        "\n",
        "from sklearn.metrics import mean_squared_error\n",
        "print('MSE (in millions) fit after training: ', mean_squared_error(Y, lm.predict(X))/1000000)\n",
        "\n",
        "from sklearn.model_selection import train_test_split\n",
        "\n",
        "\n",
        "X_train, X_test, Y_train, Y_test = train_test_split(X, Y, test_size=0.2, random_state=0)\n",
        "lmr = LinearRegression()\n",
        "lmr.fit(X_train, Y_train)\n",
        "\n",
        "X_test_plot = X_test\n",
        "Y_pred = lmr.predict(X_test)\n",
        "\n",
        "plt.scatter(X, Y)\n",
        "plt.plot(X_test, lmr.predict(X_test), 'r')\n",
        "plt.xlabel('acuity')\n",
        "plt.ylabel('Female Uni')\n",
        "plt.show()\n",
        "\n",
        "print('MSE (in millions) fit after training: ', mean_squared_error(Y_test, lmr.predict(X_test))/1000000)"
      ],
      "metadata": {
        "colab": {
          "base_uri": "https://localhost:8080/",
          "height": 594
        },
        "id": "HX87VHqdogT_",
        "outputId": "4b6d0420-f311-48d0-9560-379882a79e55"
      },
      "execution_count": null,
      "outputs": [
        {
          "output_type": "display_data",
          "data": {
            "text/plain": [
              "<Figure size 432x288 with 1 Axes>"
            ],
            "image/png": "[encoded data removed]"
          },
          "metadata": {
            "needs_background": "light"
          }
        },
        {
          "output_type": "stream",
          "name": "stdout",
          "text": [
            "MSE (in millions) fit after training:  3.6769233520892594e-08\n"
          ]
        },
        {
          "output_type": "display_data",
          "data": {
            "text/plain": [
              "<Figure size 432x288 with 1 Axes>"
            ],
            "image/png": "[encoded data removed]"
          },
          "metadata": {
            "needs_background": "light"
          }
        },
        {
          "output_type": "stream",
          "name": "stdout",
          "text": [
            "MSE (in millions) fit after training:  6.085102239999996e-06\n"
          ]
        }
      ]
    },
    {
      "cell_type": "code",
      "source": [
        "import matplotlib.pyplot as plt\n",
        "x=data['Acuity']\n",
        "y=data['Male bi']\n",
        "plt.scatter(x, y)\n",
        "plt.xlabel('acuity')\n",
        "plt.ylabel('Male bi')"
      ],
      "metadata": {
        "colab": {
          "base_uri": "https://localhost:8080/",
          "height": 316
        },
        "id": "Q_02DuMHocO5",
        "outputId": "3d72d570-bffa-4c17-adf3-3ed63ef1ed4e"
      },
      "execution_count": null,
      "outputs": [
        {
          "output_type": "execute_result",
          "data": {
            "text/plain": [
              "Text(0, 0.5, 'Male bi')"
            ]
          },
          "metadata": {},
          "execution_count": 76
        },
        {
          "output_type": "display_data",
          "data": {
            "text/plain": [
              "<Figure size 432x288 with 1 Axes>"
            ],
            "image/png": "[encoded data removed]"
          },
          "metadata": {
            "needs_background": "light"
          }
        }
      ]
    },
    {
      "cell_type": "code",
      "source": [
        "import numpy as np\n",
        "\n",
        "from sklearn.linear_model import LinearRegression\n",
        "lm = LinearRegression() # builds up model package\n",
        "X=np.array(x).reshape(-1, 1)\n",
        "Y=np.array(y).reshape(-1, 1)\n",
        "lm.fit(X, Y)\n",
        "plt.scatter(X, Y)\n",
        "plt.plot(X, lm.predict(X), 'r')\n",
        "plt.xlabel('acuity')\n",
        "plt.ylabel('male bi')\n",
        "plt.show()\n",
        "\n",
        "from sklearn.metrics import mean_squared_error\n",
        "print('MSE (in millions) fit after training: ', mean_squared_error(Y, lm.predict(X))/1000000)\n",
        "\n",
        "from sklearn.model_selection import train_test_split\n",
        "\n",
        "\n",
        "X_train, X_test, Y_train, Y_test = train_test_split(X, Y, test_size=0.2, random_state=0)\n",
        "lmr = LinearRegression()\n",
        "lmr.fit(X_train, Y_train)\n",
        "\n",
        "X_test_plot = X_test\n",
        "Y_pred = lmr.predict(X_test)\n",
        "\n",
        "plt.scatter(X, Y)\n",
        "plt.plot(X_test, lmr.predict(X_test), 'r')\n",
        "plt.xlabel('acuity')\n",
        "plt.ylabel('Male Bi')\n",
        "plt.show()\n",
        "\n",
        "print('MSE (in millions) fit after training: ', mean_squared_error(Y_test, lmr.predict(X_test))/1000000)"
      ],
      "metadata": {
        "colab": {
          "base_uri": "https://localhost:8080/",
          "height": 594
        },
        "id": "P8QJLVcboh7k",
        "outputId": "b979d83c-15fc-49b4-e074-35d36d3fb165"
      },
      "execution_count": null,
      "outputs": [
        {
          "output_type": "display_data",
          "data": {
            "text/plain": [
              "<Figure size 432x288 with 1 Axes>"
            ],
            "image/png": "[encoded data removed]"
          },
          "metadata": {
            "needs_background": "light"
          }
        },
        {
          "output_type": "stream",
          "name": "stdout",
          "text": [
            "MSE (in millions) fit after training:  1.094510509116926e-09\n"
          ]
        },
        {
          "output_type": "display_data",
          "data": {
            "text/plain": [
              "<Figure size 432x288 with 1 Axes>"
            ],
            "image/png": "[encoded data removed]"
          },
          "metadata": {
            "needs_background": "light"
          }
        },
        {
          "output_type": "stream",
          "name": "stdout",
          "text": [
            "MSE (in millions) fit after training:  1.811353599999998e-07\n"
          ]
        }
      ]
    },
    {
      "cell_type": "code",
      "source": [
        "import matplotlib.pyplot as plt\n",
        "x=data['Acuity']\n",
        "y=data['Male uni']\n",
        "plt.scatter(x, y)\n",
        "plt.xlabel('acuity')\n",
        "plt.ylabel('Male Uni')"
      ],
      "metadata": {
        "colab": {
          "base_uri": "https://localhost:8080/",
          "height": 316
        },
        "id": "Hao5CMIyoc5N",
        "outputId": "a1a090cc-cf60-4f7c-be25-ffca728e4809"
      },
      "execution_count": null,
      "outputs": [
        {
          "output_type": "execute_result",
          "data": {
            "text/plain": [
              "Text(0, 0.5, 'Male Uni')"
            ]
          },
          "metadata": {},
          "execution_count": 78
        },
        {
          "output_type": "display_data",
          "data": {
            "text/plain": [
              "<Figure size 432x288 with 1 Axes>"
            ],
            "image/png": "[encoded data removed]"
          },
          "metadata": {
            "needs_background": "light"
          }
        }
      ]
    },
    {
      "cell_type": "code",
      "source": [
        "import numpy as np\n",
        "\n",
        "from sklearn.linear_model import LinearRegression\n",
        "lm = LinearRegression() # builds up model package\n",
        "X=np.array(x).reshape(-1, 1)\n",
        "Y=np.array(y).reshape(-1, 1)\n",
        "lm.fit(X, Y)\n",
        "plt.scatter(X, Y)\n",
        "plt.plot(X, lm.predict(X), 'r')\n",
        "plt.xlabel('acuity')\n",
        "plt.ylabel('Male Uni')\n",
        "plt.show()\n",
        "\n",
        "from sklearn.metrics import mean_squared_error\n",
        "print('MSE (in millions) fit after training: ', mean_squared_error(Y, lm.predict(X))/1000000)\n",
        "\n",
        "from sklearn.model_selection import train_test_split\n",
        "\n",
        "\n",
        "X_train, X_test, Y_train, Y_test = train_test_split(X, Y, test_size=0.2, random_state=0)\n",
        "lmr = LinearRegression()\n",
        "lmr.fit(X_train, Y_train)\n",
        "\n",
        "X_test_plot = X_test\n",
        "Y_pred = lmr.predict(X_test)\n",
        "\n",
        "plt.scatter(X, Y)\n",
        "plt.plot(X_test, lmr.predict(X_test), 'r')\n",
        "plt.xlabel('acuity')\n",
        "plt.ylabel('Male Uni')\n",
        "plt.show()\n",
        "\n",
        "print('MSE (in millions) fit after training: ', mean_squared_error(Y_test, lmr.predict(X_test))/1000000)"
      ],
      "metadata": {
        "colab": {
          "base_uri": "https://localhost:8080/",
          "height": 597
        },
        "id": "gbQNNoGRojSK",
        "outputId": "b1ff05ce-880a-4598-c388-d85597c897b6"
      },
      "execution_count": null,
      "outputs": [
        {
          "output_type": "display_data",
          "data": {
            "text/plain": [
              "<Figure size 432x288 with 1 Axes>"
            ],
            "image/png": "[encoded data removed]"
          },
          "metadata": {
            "needs_background": "light"
          }
        },
        {
          "output_type": "stream",
          "name": "stdout",
          "text": [
            "MSE (in millions) fit after training:  1.3314307674459008e-08\n"
          ]
        },
        {
          "output_type": "display_data",
          "data": {
            "text/plain": [
              "<Figure size 432x288 with 1 Axes>"
            ],
            "image/png": "[encoded data removed]"
          },
          "metadata": {
            "needs_background": "light"
          }
        },
        {
          "output_type": "stream",
          "name": "stdout",
          "text": [
            "MSE (in millions) fit after training:  2.2034433600000077e-06\n"
          ]
        }
      ]
    }
  ]
}